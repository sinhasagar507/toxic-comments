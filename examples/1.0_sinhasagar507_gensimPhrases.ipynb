{
 "cells": [
  {
   "cell_type": "code",
   "execution_count": 3,
   "metadata": {},
   "outputs": [],
   "source": [
    "from gensim.test.utils import datapath\n",
    "from gensim.models.word2vec import Text8Corpus\n",
    "from gensim.models.phrases import Phrases, ENGLISH_CONNECTOR_WORDS"
   ]
  },
  {
   "cell_type": "code",
   "execution_count": 11,
   "metadata": {},
   "outputs": [
    {
     "name": "stdout",
     "output_type": "stream",
     "text": [
      "<class 'gensim.models.word2vec.Text8Corpus'>\n",
      "['computer', 'human', 'interface', 'computer', 'response', 'survey', 'system', 'time', 'user', 'interface', 'system', 'user', 'eps', 'human', 'system', 'system', 'eps', 'response', 'time', 'user', 'trees', 'trees', 'graph', 'trees', 'graph', 'minors', 'survey', 'graph', 'minors']\n"
     ]
    }
   ],
   "source": [
    "# Create a training corpus. Must be a sequence of sentences (e.g. an iterable or a generator).\n",
    "sentences = Text8Corpus(datapath('testcorpus.txt'))\n",
    "print(type(sentences))\n",
    "\n",
    "# Each sentences must be a list of string tokens \n",
    "# first_sentence = next(iter(sentences))\n",
    "print(first_sentence[0: ])"
   ]
  },
  {
   "cell_type": "code",
   "execution_count": 13,
   "metadata": {},
   "outputs": [
    {
     "data": {
      "text/plain": [
       "['trees_graph', 'minors']"
      ]
     },
     "execution_count": 13,
     "metadata": {},
     "output_type": "execute_result"
    }
   ],
   "source": [
    "# Train a toy phrase model on our training corpus \n",
    "phrase_model = Phrases(sentences, min_count=1, threshold=1, connector_words=ENGLISH_CONNECTOR_WORDS)\n",
    "\n",
    "# Apply the trained phrases model to a new, unseen sentence.\n",
    "new_sentence = ['trees', 'graph', 'minors']\n",
    "phrase_model[new_sentence]"
   ]
  },
  {
   "cell_type": "code",
   "execution_count": 14,
   "metadata": {},
   "outputs": [],
   "source": [
    "# Update the model with two new sentences on the fly (added to the training model)\n",
    "phrase_model.add_vocab([['Hello', 'world'], ['trees', 'graph', 'theory']])"
   ]
  },
  {
   "cell_type": "code",
   "execution_count": 16,
   "metadata": {},
   "outputs": [
    {
     "data": {
      "text/plain": [
       "['trees_graph', 'minors']"
      ]
     },
     "execution_count": 16,
     "metadata": {},
     "output_type": "execute_result"
    }
   ],
   "source": [
    "# Export the trained model = use less RAM, faster processing. Model updates no longer possible.\n",
    "frozen_model = phrase_model.freeze()\n",
    "\n",
    "# Apply the frozen model; same results as before:\n",
    "frozen_model[new_sentence]"
   ]
  },
  {
   "cell_type": "code",
   "execution_count": 18,
   "metadata": {},
   "outputs": [
    {
     "data": {
      "text/plain": [
       "'c:\\\\Sagar Study\\\\ML and Learning\\\\Projects\\\\toxic-comment-classification\\\\toxic_comment_classification\\\\examples'"
      ]
     },
     "execution_count": 18,
     "metadata": {},
     "output_type": "execute_result"
    }
   ],
   "source": [
    "%pwd"
   ]
  },
  {
   "cell_type": "code",
   "execution_count": null,
   "metadata": {},
   "outputs": [],
   "source": [
    "C:\\Sagar Study\\ML and Learning\\Projects\\toxic-comment-classification\\toxic_comment_classification\\models"
   ]
  },
  {
   "cell_type": "code",
   "execution_count": 27,
   "metadata": {},
   "outputs": [
    {
     "data": {
      "text/plain": [
       "['trees_graph', 'minors']"
      ]
     },
     "execution_count": 27,
     "metadata": {},
     "output_type": "execute_result"
    }
   ],
   "source": [
    "# Save the model \n",
    "import pickle as pkl \n",
    "with open('../models/frozen_model.pkl', 'wb') as f: \n",
    "    pkl.dump(frozen_model, f)\n",
    "model_reloaded = Phrases.load(\"../models/frozen_model.pkl\")\n",
    "model_reloaded[['trees', 'graph', 'minors']]"
   ]
  }
 ],
 "metadata": {
  "kernelspec": {
   "display_name": "My Environment",
   "language": "python",
   "name": "myenv"
  },
  "language_info": {
   "codemirror_mode": {
    "name": "ipython",
    "version": 3
   },
   "file_extension": ".py",
   "mimetype": "text/x-python",
   "name": "python",
   "nbconvert_exporter": "python",
   "pygments_lexer": "ipython3",
   "version": "3.11.5"
  }
 },
 "nbformat": 4,
 "nbformat_minor": 2
}
